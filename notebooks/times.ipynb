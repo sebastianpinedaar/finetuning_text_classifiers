{
 "cells": [
  {
   "cell_type": "code",
   "execution_count": 1,
   "metadata": {},
   "outputs": [],
   "source": [
    "from pathlib import Path\n",
    "import sys\n",
    "import seaborn\n",
    "import numpy as np\n",
    "import matplotlib.pyplot as plt \n",
    "\n",
    "sys.path.append(\"..\")\n",
    "\n",
    "from metadataset.ftc.metadataset import FTCMetadataset"
   ]
  },
  {
   "cell_type": "code",
   "execution_count": 18,
   "metadata": {},
   "outputs": [
    {
     "data": {
      "text/plain": [
       "['imdb',\n",
       " 'mteb/tweet_sentiment_extraction',\n",
       " 'ag_news',\n",
       " 'dbpedia_14',\n",
       " 'stanfordnlp/sst2',\n",
       " 'SetFit/mnli']"
      ]
     },
     "execution_count": 18,
     "metadata": {},
     "output_type": "execute_result"
    }
   ],
   "source": [
    "data_dir = Path(\"..\") / \"data\" \n",
    "data_version = \"mini\"\n",
    "#data_version = \"extended\"\n",
    "metadataset = FTCMetadataset(data_dir=str(data_dir), \n",
    "                             metric_name=\"error\",\n",
    "                             data_version=data_version)\n",
    "dataset_names = metadataset.get_dataset_names()\n",
    "dataset_names"
   ]
  },
  {
   "cell_type": "code",
   "execution_count": 19,
   "metadata": {},
   "outputs": [
    {
     "name": "stdout",
     "output_type": "stream",
     "text": [
      "Total time: 3388.3104166666667\n",
      "Average_time: 2.7106483459472654\n",
      "Total time: 3466.74765625\n",
      "Average_time: 3.466747538248698\n",
      "Total time: 14646.789583333333\n",
      "Average_time: 12.205657958984375\n",
      "Total time: 24049.59375\n",
      "Average_time: 36.99937337239583\n",
      "Total time: 7238.133854166666\n",
      "Average_time: 5.790506998697917\n",
      "Total time: 24326.129166666666\n",
      "Average_time: 24.326129150390624\n"
     ]
    }
   ],
   "source": [
    "times =[]\n",
    "\n",
    "for dataset_name in dataset_names:\n",
    "    metadataset.set_state(dataset_name=dataset_name)\n",
    "    X_obs = np.arange(metadataset.get_num_pipelines()).tolist()\n",
    "    _,_,_,time = metadataset.evaluate_ensembles([X_obs])\n",
    "    time = time.numpy()\n",
    "    print(\"Total time:\", np.sum(time)/60)\n",
    "    print(\"Average_time:\", np.mean(time)/60)\n",
    "    times.append(\n",
    "        {\n",
    "        \"average\": np.mean(time)/60,\n",
    "        \"total\": np.sum(time)/60,\n",
    "        \"dataset_name\": dataset_name,\n",
    "        \"dataset_version\": data_version\n",
    "        }\n",
    "    )"
   ]
  },
  {
   "cell_type": "code",
   "execution_count": 20,
   "metadata": {},
   "outputs": [
    {
     "name": "stdout",
     "output_type": "stream",
     "text": [
      "Total time: 16778.565625\n",
      "Average_time: 26.845705159505208\n",
      "Total time: 17270.0125\n",
      "Average_time: 34.54002685546875\n",
      "Total time: 45363.97083333333\n",
      "Average_time: 91.644384765625\n",
      "Total time: 23278.514583333334\n",
      "Average_time: 186.22810872395834\n",
      "Total time: 36236.64166666667\n",
      "Average_time: 57.97862548828125\n",
      "Total time: 13061.780208333334\n",
      "Average_time: 104.49423828125\n"
     ]
    }
   ],
   "source": [
    "data_version = \"extended\"\n",
    "metadataset = FTCMetadataset(data_dir=str(data_dir), \n",
    "                             metric_name=\"error\",\n",
    "                             data_version=data_version)\n",
    "\n",
    "for dataset_name in dataset_names:\n",
    "    metadataset.set_state(dataset_name=dataset_name)\n",
    "    X_obs = np.arange(metadataset.get_num_pipelines()).tolist()\n",
    "    _,_,_,time = metadataset.evaluate_ensembles([X_obs])\n",
    "    time = time.numpy()\n",
    "    print(\"Total time:\", np.sum(time)/60)\n",
    "    print(\"Average_time:\", np.mean(time)/60)\n",
    "    times.append(\n",
    "        {\n",
    "        \"average\": np.mean(time)/60,\n",
    "        \"total\": np.sum(time)/60,\n",
    "        \"dataset_name\": dataset_name,\n",
    "        \"dataset_version\": data_version\n",
    "        }\n",
    "    )"
   ]
  },
  {
   "cell_type": "code",
   "execution_count": 21,
   "metadata": {},
   "outputs": [],
   "source": [
    "import pandas as pd\n",
    "\n",
    "times_df = pd.DataFrame(times)\n",
    "times_df[\"dataset_version\"]=times_df[\"dataset_version\"].fillna(\"mini\")\n",
    "times_df[\"total\"] = (times_df[\"total\"]/60)"
   ]
  },
  {
   "cell_type": "code",
   "execution_count": 25,
   "metadata": {},
   "outputs": [],
   "source": [
    "times_df =times_df.pivot_table(values=[\"total\", \"average\"], columns =\"dataset_version\", index=\"dataset_name\")"
   ]
  },
  {
   "cell_type": "code",
   "execution_count": 27,
   "metadata": {},
   "outputs": [],
   "source": [
    "times_df.to_latex(\"times.tex\")"
   ]
  },
  {
   "cell_type": "code",
   "execution_count": null,
   "metadata": {},
   "outputs": [],
   "source": []
  }
 ],
 "metadata": {
  "kernelspec": {
   "display_name": "finetuning_text_classifiers",
   "language": "python",
   "name": "python3"
  },
  "language_info": {
   "codemirror_mode": {
    "name": "ipython",
    "version": 3
   },
   "file_extension": ".py",
   "mimetype": "text/x-python",
   "name": "python",
   "nbconvert_exporter": "python",
   "pygments_lexer": "ipython3",
   "version": "3.10.14"
  },
  "orig_nbformat": 4,
  "vscode": {
   "interpreter": {
    "hash": "6d7050d3aa922a2ebea345f8c9682cf6bccde2ada701a55f144f6c2b62cede26"
   }
  }
 },
 "nbformat": 4,
 "nbformat_minor": 2
}
