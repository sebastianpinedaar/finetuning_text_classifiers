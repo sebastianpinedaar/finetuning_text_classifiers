{
 "cells": [
  {
   "cell_type": "code",
   "execution_count": 2,
   "metadata": {},
   "outputs": [],
   "source": [
    "from pathlib import Path\n",
    "import sys\n",
    "import seaborn\n",
    "\n",
    "sys.path.append(\"..\")\n",
    "\n",
    "from metadataset.ftc.metadataset import FTCMetadataset"
   ]
  },
  {
   "cell_type": "code",
   "execution_count": 8,
   "metadata": {},
   "outputs": [
    {
     "data": {
      "text/plain": [
       "['imdb',\n",
       " 'mteb/tweet_sentiment_extraction',\n",
       " 'ag_news',\n",
       " 'dbpedia_14',\n",
       " 'stanfordnlp/sst2',\n",
       " 'SetFit/mnli']"
      ]
     },
     "execution_count": 8,
     "metadata": {},
     "output_type": "execute_result"
    }
   ],
   "source": [
    "\n",
    "data_dir = Path(\"..\") / \"data\" \n",
    "data_version = \"mini\"\n",
    "#data_version = \"extended\"\n",
    "metadataset = FTCMetadataset(data_dir=str(data_dir), \n",
    "                             metric_name=\"error\",\n",
    "                             data_version=data_version)\n",
    "dataset_names = metadataset.get_dataset_names()\n",
    "dataset_names"
   ]
  },
  {
   "cell_type": "code",
   "execution_count": 11,
   "metadata": {},
   "outputs": [
    {
     "name": "stdout",
     "output_type": "stream",
     "text": [
      "Dataset: imdb num_configs: 125 num_classes: tensor(1) num_val_samples: 5000 num_test_samples: 25000\n",
      "Dataset: mteb/tweet_sentiment_extraction num_configs: 100 num_classes: tensor(2) num_val_samples: 5497 num_test_samples: 3534\n",
      "Dataset: ag_news num_configs: 120 num_classes: tensor(3) num_val_samples: 24000 num_test_samples: 7600\n",
      "Dataset: dbpedia_14 num_configs: 65 num_classes: tensor(13) num_val_samples: 112000 num_test_samples: 70000\n",
      "Dataset: stanfordnlp/sst2 num_configs: 125 num_classes: tensor(1) num_val_samples: 13470 num_test_samples: 10776\n",
      "Dataset: SetFit/mnli num_configs: 100 num_classes: tensor(2) num_val_samples: 78541 num_test_samples: 62833\n"
     ]
    }
   ],
   "source": [
    "for dataset_name in dataset_names:\n",
    "\n",
    "    metadataset.set_state(dataset_name=dataset_name,\n",
    "                        split=\"valid\")\n",
    "    hp_candidates, indices = metadataset._get_hp_candidates_and_indices()\n",
    "    predictions = metadataset.get_predictions([[0]])\n",
    "    targets = metadataset.get_targets()\n",
    "    num_configs = len(hp_candidates)\n",
    "    num_classes = max(targets)\n",
    "    num_val_samples = len(targets)\n",
    "\n",
    "    metadataset.set_state(dataset_name=dataset_name,\n",
    "                        split=\"test\")\n",
    "    targets = metadataset.get_targets()\n",
    "    num_test_samples = len(targets)\n",
    "\n",
    "    print(\"Dataset:\", dataset_name,\n",
    "        \"num_configs:\", num_configs,\n",
    "          \"num_classes:\", num_classes,\n",
    "           \"num_val_samples:\", num_val_samples,\n",
    "           \"num_test_samples:\", num_test_samples)"
   ]
  },
  {
   "cell_type": "code",
   "execution_count": 10,
   "metadata": {},
   "outputs": [
    {
     "data": {
      "text/plain": [
       "'mini'"
      ]
     },
     "execution_count": 10,
     "metadata": {},
     "output_type": "execute_result"
    }
   ],
   "source": [
    "data_version"
   ]
  },
  {
   "cell_type": "code",
   "execution_count": 63,
   "metadata": {},
   "outputs": [
    {
     "data": {
      "text/plain": [
       "tensor([[8.0000e+00, 5.0000e-03, 0.0000e+00, 0.0000e+00, 0.0000e+00, 1.0000e+00],\n",
       "        [8.0000e+00, 1.0000e-03, 0.0000e+00, 0.0000e+00, 0.0000e+00, 1.0000e+00],\n",
       "        [8.0000e+00, 5.0000e-04, 0.0000e+00, 0.0000e+00, 0.0000e+00, 1.0000e+00],\n",
       "        [8.0000e+00, 1.0000e-04, 0.0000e+00, 0.0000e+00, 0.0000e+00, 1.0000e+00],\n",
       "        [8.0000e+00, 1.0000e-05, 0.0000e+00, 0.0000e+00, 0.0000e+00, 1.0000e+00],\n",
       "        [1.6000e+01, 5.0000e-03, 0.0000e+00, 0.0000e+00, 0.0000e+00, 1.0000e+00],\n",
       "        [1.6000e+01, 1.0000e-03, 0.0000e+00, 0.0000e+00, 0.0000e+00, 1.0000e+00],\n",
       "        [1.6000e+01, 5.0000e-04, 0.0000e+00, 0.0000e+00, 0.0000e+00, 1.0000e+00],\n",
       "        [1.6000e+01, 1.0000e-04, 0.0000e+00, 0.0000e+00, 0.0000e+00, 1.0000e+00],\n",
       "        [1.6000e+01, 1.0000e-05, 0.0000e+00, 0.0000e+00, 0.0000e+00, 1.0000e+00],\n",
       "        [3.2000e+01, 5.0000e-03, 0.0000e+00, 0.0000e+00, 0.0000e+00, 1.0000e+00],\n",
       "        [3.2000e+01, 1.0000e-03, 0.0000e+00, 0.0000e+00, 0.0000e+00, 1.0000e+00],\n",
       "        [3.2000e+01, 5.0000e-04, 0.0000e+00, 0.0000e+00, 0.0000e+00, 1.0000e+00],\n",
       "        [3.2000e+01, 1.0000e-04, 0.0000e+00, 0.0000e+00, 0.0000e+00, 1.0000e+00],\n",
       "        [3.2000e+01, 1.0000e-05, 0.0000e+00, 0.0000e+00, 0.0000e+00, 1.0000e+00],\n",
       "        [6.4000e+01, 5.0000e-03, 0.0000e+00, 0.0000e+00, 0.0000e+00, 1.0000e+00],\n",
       "        [6.4000e+01, 1.0000e-03, 0.0000e+00, 0.0000e+00, 0.0000e+00, 1.0000e+00],\n",
       "        [6.4000e+01, 5.0000e-04, 0.0000e+00, 0.0000e+00, 0.0000e+00, 1.0000e+00],\n",
       "        [6.4000e+01, 1.0000e-04, 0.0000e+00, 0.0000e+00, 0.0000e+00, 1.0000e+00],\n",
       "        [6.4000e+01, 1.0000e-05, 0.0000e+00, 0.0000e+00, 0.0000e+00, 1.0000e+00],\n",
       "        [1.2800e+02, 5.0000e-03, 0.0000e+00, 0.0000e+00, 0.0000e+00, 1.0000e+00],\n",
       "        [1.2800e+02, 1.0000e-03, 0.0000e+00, 0.0000e+00, 0.0000e+00, 1.0000e+00],\n",
       "        [1.2800e+02, 5.0000e-04, 0.0000e+00, 0.0000e+00, 0.0000e+00, 1.0000e+00],\n",
       "        [1.2800e+02, 1.0000e-04, 0.0000e+00, 0.0000e+00, 0.0000e+00, 1.0000e+00],\n",
       "        [1.2800e+02, 1.0000e-05, 0.0000e+00, 0.0000e+00, 0.0000e+00, 1.0000e+00],\n",
       "        [8.0000e+00, 5.0000e-03, 0.0000e+00, 1.0000e+00, 0.0000e+00, 0.0000e+00],\n",
       "        [8.0000e+00, 1.0000e-03, 0.0000e+00, 1.0000e+00, 0.0000e+00, 0.0000e+00],\n",
       "        [8.0000e+00, 5.0000e-04, 0.0000e+00, 1.0000e+00, 0.0000e+00, 0.0000e+00],\n",
       "        [8.0000e+00, 1.0000e-04, 0.0000e+00, 1.0000e+00, 0.0000e+00, 0.0000e+00],\n",
       "        [8.0000e+00, 1.0000e-05, 0.0000e+00, 1.0000e+00, 0.0000e+00, 0.0000e+00],\n",
       "        [1.6000e+01, 5.0000e-03, 0.0000e+00, 1.0000e+00, 0.0000e+00, 0.0000e+00],\n",
       "        [1.6000e+01, 1.0000e-03, 0.0000e+00, 1.0000e+00, 0.0000e+00, 0.0000e+00],\n",
       "        [1.6000e+01, 5.0000e-04, 0.0000e+00, 1.0000e+00, 0.0000e+00, 0.0000e+00],\n",
       "        [1.6000e+01, 1.0000e-04, 0.0000e+00, 1.0000e+00, 0.0000e+00, 0.0000e+00],\n",
       "        [1.6000e+01, 1.0000e-05, 0.0000e+00, 1.0000e+00, 0.0000e+00, 0.0000e+00],\n",
       "        [3.2000e+01, 5.0000e-03, 0.0000e+00, 1.0000e+00, 0.0000e+00, 0.0000e+00],\n",
       "        [3.2000e+01, 1.0000e-03, 0.0000e+00, 1.0000e+00, 0.0000e+00, 0.0000e+00],\n",
       "        [3.2000e+01, 5.0000e-04, 0.0000e+00, 1.0000e+00, 0.0000e+00, 0.0000e+00],\n",
       "        [3.2000e+01, 1.0000e-04, 0.0000e+00, 1.0000e+00, 0.0000e+00, 0.0000e+00],\n",
       "        [3.2000e+01, 1.0000e-05, 0.0000e+00, 1.0000e+00, 0.0000e+00, 0.0000e+00],\n",
       "        [6.4000e+01, 5.0000e-03, 0.0000e+00, 1.0000e+00, 0.0000e+00, 0.0000e+00],\n",
       "        [6.4000e+01, 1.0000e-03, 0.0000e+00, 1.0000e+00, 0.0000e+00, 0.0000e+00],\n",
       "        [6.4000e+01, 5.0000e-04, 0.0000e+00, 1.0000e+00, 0.0000e+00, 0.0000e+00],\n",
       "        [6.4000e+01, 1.0000e-04, 0.0000e+00, 1.0000e+00, 0.0000e+00, 0.0000e+00],\n",
       "        [6.4000e+01, 1.0000e-05, 0.0000e+00, 1.0000e+00, 0.0000e+00, 0.0000e+00],\n",
       "        [1.2800e+02, 5.0000e-03, 0.0000e+00, 1.0000e+00, 0.0000e+00, 0.0000e+00],\n",
       "        [1.2800e+02, 1.0000e-03, 0.0000e+00, 1.0000e+00, 0.0000e+00, 0.0000e+00],\n",
       "        [1.2800e+02, 5.0000e-04, 0.0000e+00, 1.0000e+00, 0.0000e+00, 0.0000e+00],\n",
       "        [1.2800e+02, 1.0000e-04, 0.0000e+00, 1.0000e+00, 0.0000e+00, 0.0000e+00],\n",
       "        [1.2800e+02, 1.0000e-05, 0.0000e+00, 1.0000e+00, 0.0000e+00, 0.0000e+00],\n",
       "        [8.0000e+00, 5.0000e-03, 1.0000e+00, 0.0000e+00, 0.0000e+00, 0.0000e+00],\n",
       "        [8.0000e+00, 1.0000e-03, 1.0000e+00, 0.0000e+00, 0.0000e+00, 0.0000e+00],\n",
       "        [8.0000e+00, 5.0000e-04, 1.0000e+00, 0.0000e+00, 0.0000e+00, 0.0000e+00],\n",
       "        [8.0000e+00, 1.0000e-04, 1.0000e+00, 0.0000e+00, 0.0000e+00, 0.0000e+00],\n",
       "        [8.0000e+00, 1.0000e-05, 1.0000e+00, 0.0000e+00, 0.0000e+00, 0.0000e+00],\n",
       "        [1.6000e+01, 5.0000e-03, 1.0000e+00, 0.0000e+00, 0.0000e+00, 0.0000e+00],\n",
       "        [1.6000e+01, 1.0000e-03, 1.0000e+00, 0.0000e+00, 0.0000e+00, 0.0000e+00],\n",
       "        [1.6000e+01, 5.0000e-04, 1.0000e+00, 0.0000e+00, 0.0000e+00, 0.0000e+00],\n",
       "        [1.6000e+01, 1.0000e-04, 1.0000e+00, 0.0000e+00, 0.0000e+00, 0.0000e+00],\n",
       "        [1.6000e+01, 1.0000e-05, 1.0000e+00, 0.0000e+00, 0.0000e+00, 0.0000e+00],\n",
       "        [3.2000e+01, 5.0000e-03, 1.0000e+00, 0.0000e+00, 0.0000e+00, 0.0000e+00],\n",
       "        [3.2000e+01, 5.0000e-04, 1.0000e+00, 0.0000e+00, 0.0000e+00, 0.0000e+00],\n",
       "        [3.2000e+01, 1.0000e-04, 1.0000e+00, 0.0000e+00, 0.0000e+00, 0.0000e+00],\n",
       "        [3.2000e+01, 1.0000e-05, 1.0000e+00, 0.0000e+00, 0.0000e+00, 0.0000e+00],\n",
       "        [6.4000e+01, 5.0000e-03, 1.0000e+00, 0.0000e+00, 0.0000e+00, 0.0000e+00],\n",
       "        [6.4000e+01, 1.0000e-03, 1.0000e+00, 0.0000e+00, 0.0000e+00, 0.0000e+00],\n",
       "        [6.4000e+01, 5.0000e-04, 1.0000e+00, 0.0000e+00, 0.0000e+00, 0.0000e+00],\n",
       "        [6.4000e+01, 1.0000e-04, 1.0000e+00, 0.0000e+00, 0.0000e+00, 0.0000e+00],\n",
       "        [6.4000e+01, 1.0000e-05, 1.0000e+00, 0.0000e+00, 0.0000e+00, 0.0000e+00],\n",
       "        [1.2800e+02, 5.0000e-03, 1.0000e+00, 0.0000e+00, 0.0000e+00, 0.0000e+00],\n",
       "        [1.2800e+02, 1.0000e-03, 1.0000e+00, 0.0000e+00, 0.0000e+00, 0.0000e+00],\n",
       "        [1.2800e+02, 5.0000e-04, 1.0000e+00, 0.0000e+00, 0.0000e+00, 0.0000e+00],\n",
       "        [1.2800e+02, 1.0000e-04, 1.0000e+00, 0.0000e+00, 0.0000e+00, 0.0000e+00],\n",
       "        [1.2800e+02, 1.0000e-05, 1.0000e+00, 0.0000e+00, 0.0000e+00, 0.0000e+00],\n",
       "        [8.0000e+00, 5.0000e-03, 0.0000e+00, 0.0000e+00, 1.0000e+00, 0.0000e+00],\n",
       "        [8.0000e+00, 1.0000e-03, 0.0000e+00, 0.0000e+00, 1.0000e+00, 0.0000e+00],\n",
       "        [8.0000e+00, 5.0000e-04, 0.0000e+00, 0.0000e+00, 1.0000e+00, 0.0000e+00],\n",
       "        [8.0000e+00, 1.0000e-04, 0.0000e+00, 0.0000e+00, 1.0000e+00, 0.0000e+00],\n",
       "        [8.0000e+00, 1.0000e-05, 0.0000e+00, 0.0000e+00, 1.0000e+00, 0.0000e+00],\n",
       "        [1.6000e+01, 5.0000e-03, 0.0000e+00, 0.0000e+00, 1.0000e+00, 0.0000e+00],\n",
       "        [1.6000e+01, 1.0000e-03, 0.0000e+00, 0.0000e+00, 1.0000e+00, 0.0000e+00],\n",
       "        [1.6000e+01, 5.0000e-04, 0.0000e+00, 0.0000e+00, 1.0000e+00, 0.0000e+00],\n",
       "        [1.6000e+01, 1.0000e-04, 0.0000e+00, 0.0000e+00, 1.0000e+00, 0.0000e+00],\n",
       "        [1.6000e+01, 1.0000e-05, 0.0000e+00, 0.0000e+00, 1.0000e+00, 0.0000e+00],\n",
       "        [3.2000e+01, 5.0000e-03, 0.0000e+00, 0.0000e+00, 1.0000e+00, 0.0000e+00],\n",
       "        [3.2000e+01, 1.0000e-03, 0.0000e+00, 0.0000e+00, 1.0000e+00, 0.0000e+00],\n",
       "        [3.2000e+01, 5.0000e-04, 0.0000e+00, 0.0000e+00, 1.0000e+00, 0.0000e+00],\n",
       "        [3.2000e+01, 1.0000e-04, 0.0000e+00, 0.0000e+00, 1.0000e+00, 0.0000e+00],\n",
       "        [3.2000e+01, 1.0000e-05, 0.0000e+00, 0.0000e+00, 1.0000e+00, 0.0000e+00],\n",
       "        [6.4000e+01, 5.0000e-03, 0.0000e+00, 0.0000e+00, 1.0000e+00, 0.0000e+00],\n",
       "        [6.4000e+01, 1.0000e-03, 0.0000e+00, 0.0000e+00, 1.0000e+00, 0.0000e+00],\n",
       "        [6.4000e+01, 5.0000e-04, 0.0000e+00, 0.0000e+00, 1.0000e+00, 0.0000e+00],\n",
       "        [6.4000e+01, 1.0000e-04, 0.0000e+00, 0.0000e+00, 1.0000e+00, 0.0000e+00],\n",
       "        [6.4000e+01, 1.0000e-05, 0.0000e+00, 0.0000e+00, 1.0000e+00, 0.0000e+00],\n",
       "        [1.2800e+02, 5.0000e-03, 0.0000e+00, 0.0000e+00, 1.0000e+00, 0.0000e+00],\n",
       "        [1.2800e+02, 1.0000e-03, 0.0000e+00, 0.0000e+00, 1.0000e+00, 0.0000e+00],\n",
       "        [1.2800e+02, 5.0000e-04, 0.0000e+00, 0.0000e+00, 1.0000e+00, 0.0000e+00],\n",
       "        [1.2800e+02, 1.0000e-04, 0.0000e+00, 0.0000e+00, 1.0000e+00, 0.0000e+00],\n",
       "        [1.2800e+02, 1.0000e-05, 0.0000e+00, 0.0000e+00, 1.0000e+00, 0.0000e+00]])"
      ]
     },
     "execution_count": 63,
     "metadata": {},
     "output_type": "execute_result"
    }
   ],
   "source": []
  },
  {
   "cell_type": "code",
   "execution_count": 64,
   "metadata": {},
   "outputs": [
    {
     "name": "stdout",
     "output_type": "stream",
     "text": [
      "torch.Size([99, 6])\n"
     ]
    },
    {
     "data": {
      "text/plain": [
       "(0.7529999613761902, 0.04462500289082527)"
      ]
     },
     "execution_count": 64,
     "metadata": {},
     "output_type": "execute_result"
    }
   ],
   "source": [
    "hp_candidates, indices = metadataset._get_hp_candidates_and_indices()\n",
    "print(hp_candidates.shape)\n",
    "metadataset._get_worst_and_best_performance()"
   ]
  },
  {
   "cell_type": "code",
   "execution_count": 65,
   "metadata": {},
   "outputs": [
    {
     "data": {
      "text/plain": [
       "tensor([[[[9.9487e-01, 6.0686e-08, 4.8151e-03, 3.1645e-04],\n",
       "          [4.7717e-05, 9.9988e-01, 6.8001e-05, 2.8527e-06],\n",
       "          [9.9917e-01, 3.2643e-05, 7.9838e-04, 1.3009e-06],\n",
       "          ...,\n",
       "          [6.9304e-02, 7.4301e-09, 9.2238e-01, 8.3122e-03],\n",
       "          [4.5482e-04, 7.6472e-01, 2.3473e-01, 9.8861e-05],\n",
       "          [1.0000e+00, 2.5454e-10, 3.2735e-08, 3.2222e-07]]]])"
      ]
     },
     "execution_count": 65,
     "metadata": {},
     "output_type": "execute_result"
    }
   ],
   "source": [
    "metadataset.get_predictions([[1]])"
   ]
  },
  {
   "cell_type": "code",
   "execution_count": 66,
   "metadata": {},
   "outputs": [],
   "source": [
    "metrics = metadataset.evaluate_ensembles([indices.tolist()])[2].T"
   ]
  },
  {
   "cell_type": "code",
   "execution_count": 67,
   "metadata": {},
   "outputs": [
    {
     "data": {
      "text/plain": [
       "tensor([[0.1247],\n",
       "        [0.1427],\n",
       "        [0.0768],\n",
       "        [0.0565],\n",
       "        [0.0767],\n",
       "        [0.1203],\n",
       "        [0.1334],\n",
       "        [0.0692],\n",
       "        [0.0570],\n",
       "        [0.0772],\n",
       "        [0.1433],\n",
       "        [0.1266],\n",
       "        [0.0680],\n",
       "        [0.0568],\n",
       "        [0.0777],\n",
       "        [0.1813],\n",
       "        [0.1308],\n",
       "        [0.0670],\n",
       "        [0.0568],\n",
       "        [0.0738],\n",
       "        [0.2261],\n",
       "        [0.1331],\n",
       "        [0.0650],\n",
       "        [0.0562],\n",
       "        [0.0763],\n",
       "        [0.7525],\n",
       "        [0.7525],\n",
       "        [0.7479],\n",
       "        [0.0525],\n",
       "        [0.0641],\n",
       "        [0.7479],\n",
       "        [0.7479],\n",
       "        [0.7479],\n",
       "        [0.0523],\n",
       "        [0.0660],\n",
       "        [0.7479],\n",
       "        [0.7479],\n",
       "        [0.7525],\n",
       "        [0.0525],\n",
       "        [0.0663],\n",
       "        [0.7479],\n",
       "        [0.7525],\n",
       "        [0.7525],\n",
       "        [0.0512],\n",
       "        [0.0643],\n",
       "        [0.7479],\n",
       "        [0.7525],\n",
       "        [0.7525],\n",
       "        [0.0514],\n",
       "        [0.0639],\n",
       "        [0.7525],\n",
       "        [0.7525],\n",
       "        [0.7525],\n",
       "        [0.0575],\n",
       "        [0.0653],\n",
       "        [0.7525],\n",
       "        [0.7477],\n",
       "        [0.7525],\n",
       "        [0.0615],\n",
       "        [0.0656],\n",
       "        [0.7530],\n",
       "        [0.7525],\n",
       "        [0.0610],\n",
       "        [0.0663],\n",
       "        [0.7334],\n",
       "        [0.7525],\n",
       "        [0.7525],\n",
       "        [0.0542],\n",
       "        [0.0655],\n",
       "        [0.7525],\n",
       "        [0.7525],\n",
       "        [0.7525],\n",
       "        [0.0547],\n",
       "        [0.0647],\n",
       "        [0.7517],\n",
       "        [0.7525],\n",
       "        [0.7517],\n",
       "        [0.0480],\n",
       "        [0.0619],\n",
       "        [0.7517],\n",
       "        [0.7517],\n",
       "        [0.7517],\n",
       "        [0.0463],\n",
       "        [0.0616],\n",
       "        [0.7517],\n",
       "        [0.7517],\n",
       "        [0.7525],\n",
       "        [0.0473],\n",
       "        [0.0614],\n",
       "        [0.7479],\n",
       "        [0.7517],\n",
       "        [0.7517],\n",
       "        [0.0446],\n",
       "        [0.0615],\n",
       "        [0.7517],\n",
       "        [0.7479],\n",
       "        [0.7517],\n",
       "        [0.0469],\n",
       "        [0.0597]])"
      ]
     },
     "execution_count": 67,
     "metadata": {},
     "output_type": "execute_result"
    }
   ],
   "source": [
    "metrics"
   ]
  },
  {
   "cell_type": "code",
   "execution_count": 68,
   "metadata": {},
   "outputs": [],
   "source": [
    "predictions = metadataset.get_predictions([[0]])\n",
    "targets = metadataset.get_targets()"
   ]
  },
  {
   "cell_type": "code",
   "execution_count": 69,
   "metadata": {},
   "outputs": [
    {
     "data": {
      "text/plain": [
       "tensor([[[0, 1, 0,  ..., 2, 2, 0]]])"
      ]
     },
     "execution_count": 69,
     "metadata": {},
     "output_type": "execute_result"
    }
   ],
   "source": [
    "predictions.argmax(-1)"
   ]
  },
  {
   "cell_type": "code",
   "execution_count": 70,
   "metadata": {},
   "outputs": [
    {
     "data": {
      "text/plain": [
       "tensor([0, 1, 0,  ..., 2, 2, 0])"
      ]
     },
     "execution_count": 70,
     "metadata": {},
     "output_type": "execute_result"
    }
   ],
   "source": [
    "targets"
   ]
  },
  {
   "cell_type": "code",
   "execution_count": 75,
   "metadata": {},
   "outputs": [
    {
     "data": {
      "text/plain": [
       "<Axes: >"
      ]
     },
     "execution_count": 75,
     "metadata": {},
     "output_type": "execute_result"
    },
    {
     "data": {
      "image/png": "[encoded data removed]",
      "text/plain": [
       "<Figure size 640x480 with 2 Axes>"
      ]
     },
     "metadata": {},
     "output_type": "display_data"
    }
   ],
   "source": [
    "i=1\n",
    "results =metrics[25*i:(i+1)*25].reshape(5,5)\n",
    "seaborn.heatmap(results)"
   ]
  },
  {
   "cell_type": "code",
   "execution_count": 76,
   "metadata": {},
   "outputs": [
    {
     "data": {
      "text/plain": [
       "tensor([[0.7525, 0.7525, 0.7479, 0.0525, 0.0641],\n",
       "        [0.7479, 0.7479, 0.7479, 0.0523, 0.0660],\n",
       "        [0.7479, 0.7479, 0.7525, 0.0525, 0.0663],\n",
       "        [0.7479, 0.7525, 0.7525, 0.0512, 0.0643],\n",
       "        [0.7479, 0.7525, 0.7525, 0.0514, 0.0639]])"
      ]
     },
     "execution_count": 76,
     "metadata": {},
     "output_type": "execute_result"
    }
   ],
   "source": [
    "results"
   ]
  },
  {
   "cell_type": "code",
   "execution_count": 55,
   "metadata": {},
   "outputs": [
    {
     "data": {
      "text/plain": [
       "torch.Size([24000])"
      ]
     },
     "execution_count": 55,
     "metadata": {},
     "output_type": "execute_result"
    }
   ],
   "source": [
    "metadataset.get_targets().shape"
   ]
  },
  {
   "cell_type": "code",
   "execution_count": 56,
   "metadata": {},
   "outputs": [
    {
     "data": {
      "text/plain": [
       "4"
      ]
     },
     "execution_count": 56,
     "metadata": {},
     "output_type": "execute_result"
    }
   ],
   "source": [
    "metadataset.get_num_classes()"
   ]
  },
  {
   "cell_type": "code",
   "execution_count": 57,
   "metadata": {},
   "outputs": [],
   "source": [
    "metadataset.export_failed_configs(\"../bash_args/\")"
   ]
  },
  {
   "cell_type": "code",
   "execution_count": null,
   "metadata": {},
   "outputs": [],
   "source": []
  },
  {
   "cell_type": "code",
   "execution_count": null,
   "metadata": {},
   "outputs": [],
   "source": []
  }
 ],
 "metadata": {
  "kernelspec": {
   "display_name": "finetuning_text_classifiers",
   "language": "python",
   "name": "python3"
  },
  "language_info": {
   "codemirror_mode": {
    "name": "ipython",
    "version": 3
   },
   "file_extension": ".py",
   "mimetype": "text/x-python",
   "name": "python",
   "nbconvert_exporter": "python",
   "pygments_lexer": "ipython3",
   "version": "3.10.14 (main, May  6 2024, 19:42:50) [GCC 11.2.0]"
  },
  "orig_nbformat": 4,
  "vscode": {
   "interpreter": {
    "hash": "6d7050d3aa922a2ebea345f8c9682cf6bccde2ada701a55f144f6c2b62cede26"
   }
  }
 },
 "nbformat": 4,
 "nbformat_minor": 2
}
